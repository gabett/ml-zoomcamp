{
 "cells": [
  {
   "cell_type": "code",
   "execution_count": 36,
   "id": "13789fa8-8738-443f-8707-d0c51104d159",
   "metadata": {},
   "outputs": [],
   "source": [
    "import pandas as pd\n",
    "import numpy as np"
   ]
  },
  {
   "cell_type": "code",
   "execution_count": 3,
   "id": "7ec67412-e50d-46e2-b8c0-497b8d381388",
   "metadata": {},
   "outputs": [
    {
     "data": {
      "text/plain": [
       "'2.2.2'"
      ]
     },
     "execution_count": 3,
     "metadata": {},
     "output_type": "execute_result"
    }
   ],
   "source": [
    "pd.__version__"
   ]
  },
  {
   "cell_type": "code",
   "execution_count": 5,
   "id": "a08b65c4-89d5-4326-b9d0-371daba86533",
   "metadata": {},
   "outputs": [],
   "source": [
    "df = pd.read_csv(\"laptops.csv\")"
   ]
  },
  {
   "cell_type": "code",
   "execution_count": 6,
   "id": "5ff934e5-40d8-458a-9ab3-02aea23e131b",
   "metadata": {},
   "outputs": [
    {
     "data": {
      "text/plain": [
       "2160"
      ]
     },
     "execution_count": 6,
     "metadata": {},
     "output_type": "execute_result"
    }
   ],
   "source": [
    "df.shape[0]"
   ]
  },
  {
   "cell_type": "code",
   "execution_count": 27,
   "id": "60e01171-62ff-44ed-9552-60c276d02f21",
   "metadata": {},
   "outputs": [
    {
     "data": {
      "text/plain": [
       "27"
      ]
     },
     "execution_count": 27,
     "metadata": {},
     "output_type": "execute_result"
    }
   ],
   "source": [
    "df['Brand'].nunique()"
   ]
  },
  {
   "cell_type": "code",
   "execution_count": 19,
   "id": "0d238241-37e9-4094-af0d-ea93b98b1e22",
   "metadata": {},
   "outputs": [
    {
     "data": {
      "text/plain": [
       "Laptop             0\n",
       "Status             0\n",
       "Brand              0\n",
       "Model              0\n",
       "CPU                0\n",
       "RAM                0\n",
       "Storage            0\n",
       "Storage type      42\n",
       "GPU             1371\n",
       "Screen             4\n",
       "Touch              0\n",
       "Final Price        0\n",
       "dtype: int64"
      ]
     },
     "execution_count": 19,
     "metadata": {},
     "output_type": "execute_result"
    }
   ],
   "source": [
    "df.isnull().sum()"
   ]
  },
  {
   "cell_type": "code",
   "execution_count": 20,
   "id": "f15b8da8-a13e-4cf2-8aec-c8f5d930bdee",
   "metadata": {},
   "outputs": [
    {
     "data": {
      "text/plain": [
       "3936.0"
      ]
     },
     "execution_count": 20,
     "metadata": {},
     "output_type": "execute_result"
    }
   ],
   "source": [
    "df[df['Brand'] == 'Dell']['Final Price'].max()"
   ]
  },
  {
   "cell_type": "code",
   "execution_count": 21,
   "id": "eff0ee01-f5ae-440d-a9cb-feb746858c63",
   "metadata": {},
   "outputs": [],
   "source": [
    "screen_column = df['Screen']"
   ]
  },
  {
   "cell_type": "code",
   "execution_count": 24,
   "id": "1f651655-492e-4c00-a54a-2fb009be5554",
   "metadata": {},
   "outputs": [
    {
     "name": "stdout",
     "output_type": "stream",
     "text": [
      "Median before:  15.6\n",
      "Median after:  15.6\n"
     ]
    }
   ],
   "source": [
    "screen_median = screen_column.median()\n",
    "print(\"Median before: \", screen_median)\n",
    "screen_mode = screen_column.mode()\n",
    "screen_column = screen_column.fillna(screen_mode)\n",
    "screen_mode = screen_column.mode()\n",
    "print(\"Median after: \", screen_median)"
   ]
  },
  {
   "cell_type": "code",
   "execution_count": 51,
   "id": "d7812fce-c081-49c3-8e7d-43aadce65871",
   "metadata": {},
   "outputs": [
    {
     "data": {
      "text/plain": [
       "91.29988062995815"
      ]
     },
     "execution_count": 51,
     "metadata": {},
     "output_type": "execute_result"
    }
   ],
   "source": [
    "df_injoo = df[df['Brand'] == 'Innjoo'][['RAM', 'Storage', 'Screen']]\n",
    "X = df_injoo.values\n",
    "matrix_mul = np.matmul(X.T,X)\n",
    "matrix_mul\n",
    "inverse_matrix = np.linalg.inv(matrix_mul)\n",
    "\n",
    "Y = np.array([1100, 1300, 800, 900, 1000, 1100])\n",
    "w = np.matmul(inverse_matrix, X.T)\n",
    "w = np.matmul(w, Y)\n",
    "w.sum()"
   ]
  }
 ],
 "metadata": {
  "kernelspec": {
   "display_name": "Python 3 (ipykernel)",
   "language": "python",
   "name": "python3"
  },
  "language_info": {
   "codemirror_mode": {
    "name": "ipython",
    "version": 3
   },
   "file_extension": ".py",
   "mimetype": "text/x-python",
   "name": "python",
   "nbconvert_exporter": "python",
   "pygments_lexer": "ipython3",
   "version": "3.12.4"
  }
 },
 "nbformat": 4,
 "nbformat_minor": 5
}
